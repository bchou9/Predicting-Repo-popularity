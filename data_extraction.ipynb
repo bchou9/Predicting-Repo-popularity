{
 "metadata": {
  "language_info": {
   "codemirror_mode": {
    "name": "ipython",
    "version": 3
   },
   "file_extension": ".py",
   "mimetype": "text/x-python",
   "name": "python",
   "nbconvert_exporter": "python",
   "pygments_lexer": "ipython3",
   "version": "3.8.3-final"
  },
  "orig_nbformat": 2,
  "kernelspec": {
   "name": "python3",
   "display_name": "Python 3"
  }
 },
 "nbformat": 4,
 "nbformat_minor": 2,
 "cells": [
  {
   "cell_type": "code",
   "execution_count": 1,
   "metadata": {},
   "outputs": [],
   "source": [
    "import requests\n",
    "import json\n",
    "import pandas as pd\n",
    "import re\n",
    "from bs4 import BeautifulSoup "
   ]
  },
  {
   "cell_type": "code",
   "execution_count": 2,
   "metadata": {},
   "outputs": [],
   "source": [
    "header={'Accept':'application/vnd.github.mercy-preview+json',\n",
    "'visibility':'PUBLIC',\n",
    "\"Authorization\": \"token \"\n",
    "}"
   ]
  },
  {
   "source": [
    "Web Scraping "
   ],
   "cell_type": "markdown",
   "metadata": {}
  },
  {
   "cell_type": "code",
   "execution_count": 3,
   "metadata": {
    "tags": []
   },
   "outputs": [],
   "source": [
    "def extract(repo_name,user,contri):\n",
    "    print('https://github.com/'+user+\"/\"+repo_name)\n",
    "    info=[]\n",
    "    r = requests.get('https://github.com/'+user+\"/\"+repo_name)\n",
    "    # file=requests.get('https://api.github.com/repos/'+repo_name,headers=header)\n",
    "    soup = BeautifulSoup(r.content)\n",
    "    info.append(repo_name)\n",
    "    al=soup.find_all('a',class_=\"social-count\")\n",
    "    info.append(al[1].text.replace(\"\\n\",\"\").strip(\" \"))\n",
    "    info.append(al[2].text.replace(\"\\n\",\"\").strip(\" \"))\n",
    "    info.append(al[0].text.replace(\"\\n\",\"\").strip(\" \"))\n",
    "    try:\n",
    "        info.append(soup.find_all('a',class_='js-selected-navigation-item UnderlineNav-item hx_underlinenav-item no-wrap js-responsive-underlinenav-item')[0].find_all('span',class_='Counter')[0].text)\n",
    "    except:\n",
    "        info.append([])\n",
    "    # a=(soup.find_all('a',class_='js-selected-navigation-item UnderlineNav-item hx_underlinenav-item no-wrapjs-responsive-underlinenav-item').find_all('span',class_='Counter')[0].text)\n",
    "    try:\n",
    "        tag=soup.find_all('a',class_='topic-tag topic-tag-link')\n",
    "        tags=[]\n",
    "        for t in tag:\n",
    "            tags.append(t.text.replace(\"\\n\",\" \").strip(\" \"))\n",
    "        info.append(tags)\n",
    "    except:\n",
    "        info.append([])\n",
    "    try:\n",
    "        info.append(soup.find_all('p',class_='f4 mt-3')[0].text.replace(\"\\n\",\"\").strip(\" \"))\n",
    "    except:\n",
    "        info.append([])\n",
    "    \n",
    "    try:\n",
    "        info.append(soup.find_all('a',class_='link-gray-dark no-underline')[-1].find_all('span',class_='Counter')[0].text)\n",
    "    except:\n",
    "        info.append(contri)\n",
    "    try:\n",
    "        info.append(soup.find_all('a',{'class':'muted-link'})[0].text.replace(\"\\n\",\"\").replace(\"License\",\"\").strip(\" \"))\n",
    "    except:\n",
    "        info.append([])\n",
    "    info.append('https://github.com/'+user+repo_name)\n",
    "    try:\n",
    "        info.append(soup.find_all('span',{'class':'text-gray-dark text-bold mr-1'})[0].text)\n",
    "    except:\n",
    "        info.append([])\n",
    "    return info"
   ]
  },
  {
   "cell_type": "code",
   "execution_count": 4,
   "metadata": {
    "tags": []
   },
   "outputs": [
    {
     "output_type": "stream",
     "name": "stdout",
     "text": "2\n"
    },
    {
     "output_type": "error",
     "ename": "TypeError",
     "evalue": "string indices must be integers",
     "traceback": [
      "\u001b[1;31m---------------------------------------------------------------------------\u001b[0m",
      "\u001b[1;31mTypeError\u001b[0m                                 Traceback (most recent call last)",
      "\u001b[1;32m<ipython-input-4-82236ef55a3e>\u001b[0m in \u001b[0;36m<module>\u001b[1;34m\u001b[0m\n\u001b[0;32m      7\u001b[0m \u001b[1;33m\u001b[0m\u001b[0m\n\u001b[0;32m      8\u001b[0m     \u001b[0minfo\u001b[0m\u001b[1;33m=\u001b[0m\u001b[1;33m[\u001b[0m\u001b[1;33m]\u001b[0m\u001b[1;33m\u001b[0m\u001b[1;33m\u001b[0m\u001b[0m\n\u001b[1;32m----> 9\u001b[1;33m     \u001b[0mowner_name\u001b[0m\u001b[1;33m=\u001b[0m\u001b[0mi\u001b[0m\u001b[1;33m[\u001b[0m\u001b[1;34m'owner'\u001b[0m\u001b[1;33m]\u001b[0m\u001b[1;33m[\u001b[0m\u001b[1;34m'login'\u001b[0m\u001b[1;33m]\u001b[0m\u001b[1;33m\u001b[0m\u001b[1;33m\u001b[0m\u001b[0m\n\u001b[0m\u001b[0;32m     10\u001b[0m     \u001b[1;32mif\u001b[0m \u001b[0mowner_name\u001b[0m \u001b[1;32mnot\u001b[0m \u001b[1;32min\u001b[0m \u001b[0mnames\u001b[0m\u001b[1;33m:\u001b[0m\u001b[1;33m\u001b[0m\u001b[1;33m\u001b[0m\u001b[0m\n\u001b[0;32m     11\u001b[0m         \u001b[0mnames\u001b[0m\u001b[1;33m.\u001b[0m\u001b[0mappend\u001b[0m\u001b[1;33m(\u001b[0m\u001b[0mowner_name\u001b[0m\u001b[1;33m)\u001b[0m\u001b[1;33m\u001b[0m\u001b[1;33m\u001b[0m\u001b[0m\n",
      "\u001b[1;31mTypeError\u001b[0m: string indices must be integers"
     ]
    }
   ],
   "source": [
    "df=[]\n",
    "names=[]\n",
    "response=requests.get(' https://api.github.com/repositories',headers=header)\n",
    "data=response.json()\n",
    "print(len(data))\n",
    "for i in data:\n",
    "   \n",
    "    info=[]\n",
    "    owner_name=i['owner']['login']\n",
    "    if owner_name not in names:\n",
    "        names.append(owner_name)\n",
    "        print(owner_name)\n",
    "        url_owner_repos='https://api.github.com/users/'+owner_name+'/repos'\n",
    "        list_repo=requests.get(url_owner_repos,headers=header)\n",
    "        repo_list=list_repo.json()\n",
    "        \n",
    "        for file in repo_list:\n",
    "            contri=0\n",
    "            repo_name=file['name']\n",
    "          \n",
    "            contri_url='https://api.github.com/repos/'+repo_name+'/contributors'\n",
    "            forks_url=requests.get(contri_url,headers=header)\n",
    "             \n",
    "            contributers=len(forks_url.json()) \n",
    "            h=extract(repo_name,owner_name,contributers)\n",
    "            #     for c in forks_url.json():\n",
    "            #         contri+=c['contributions']\n",
    "            #     df.append([repo_name,forks,tag,language,about,watchers,contributors,contri,popularity,licens,issue,url])\n",
    "            # except:\n",
    "            df.append(h)"
   ]
  },
  {
   "source": [
    "Rest Api"
   ],
   "cell_type": "markdown",
   "metadata": {}
  },
  {
   "cell_type": "code",
   "execution_count": 5,
   "metadata": {
    "tags": []
   },
   "outputs": [
    {
     "output_type": "stream",
     "name": "stdout",
     "text": "2\n"
    },
    {
     "output_type": "error",
     "ename": "TypeError",
     "evalue": "string indices must be integers",
     "traceback": [
      "\u001b[1;31m---------------------------------------------------------------------------\u001b[0m",
      "\u001b[1;31mTypeError\u001b[0m                                 Traceback (most recent call last)",
      "\u001b[1;32m<ipython-input-5-c97138239ee6>\u001b[0m in \u001b[0;36m<module>\u001b[1;34m\u001b[0m\n\u001b[0;32m      7\u001b[0m \u001b[1;33m\u001b[0m\u001b[0m\n\u001b[0;32m      8\u001b[0m     \u001b[0minfo\u001b[0m\u001b[1;33m=\u001b[0m\u001b[1;33m[\u001b[0m\u001b[1;33m]\u001b[0m\u001b[1;33m\u001b[0m\u001b[1;33m\u001b[0m\u001b[0m\n\u001b[1;32m----> 9\u001b[1;33m     \u001b[0mowner_name\u001b[0m\u001b[1;33m=\u001b[0m\u001b[0mi\u001b[0m\u001b[1;33m[\u001b[0m\u001b[1;34m'owner'\u001b[0m\u001b[1;33m]\u001b[0m\u001b[1;33m[\u001b[0m\u001b[1;34m'login'\u001b[0m\u001b[1;33m]\u001b[0m\u001b[1;33m\u001b[0m\u001b[1;33m\u001b[0m\u001b[0m\n\u001b[0m\u001b[0;32m     10\u001b[0m     \u001b[1;32mif\u001b[0m \u001b[0mowner_name\u001b[0m \u001b[1;32mnot\u001b[0m \u001b[1;32min\u001b[0m \u001b[0mnames\u001b[0m\u001b[1;33m:\u001b[0m\u001b[1;33m\u001b[0m\u001b[1;33m\u001b[0m\u001b[0m\n\u001b[0;32m     11\u001b[0m         \u001b[0mnames\u001b[0m\u001b[1;33m.\u001b[0m\u001b[0mappend\u001b[0m\u001b[1;33m(\u001b[0m\u001b[0mowner_name\u001b[0m\u001b[1;33m)\u001b[0m\u001b[1;33m\u001b[0m\u001b[1;33m\u001b[0m\u001b[0m\n",
      "\u001b[1;31mTypeError\u001b[0m: string indices must be integers"
     ]
    }
   ],
   "source": [
    "df=[]\n",
    "names=[]\n",
    "response=requests.get(' https://api.github.com/repositories',headers=header)\n",
    "data=response.json()\n",
    "print(len(data))\n",
    "for i in data:\n",
    "   \n",
    "    info=[]\n",
    "    owner_name=i['owner']['login']\n",
    "    if owner_name not in names:\n",
    "        names.append(owner_name)\n",
    "        print(owner_name)\n",
    "        url_owner_repos='https://api.github.com/users/'+owner_name+'/repos'\n",
    "        list_repo=requests.get(url_owner_repos,headers=header)\n",
    "        repo_list=list_repo.json()\n",
    "        \n",
    "        for file in repo_list:\n",
    "            contri=0\n",
    "            repo=file['ful_name']\n",
    "            r = requests.get() \n",
    "            repo_name,forks,tag,language,about,watchers,popularity,licens,issue,url=map(file.get,['full_name','forks','topics','language','description','watchers','stargazers_count','license','open_issues','clone_url'])\n",
    "            contri_url='https://api.github.com/repos/'+repo_name+'/contributors'\n",
    "            forks_url=requests.get(contri_url,headers=header)\n",
    "            contributors=0\n",
    "            try:\n",
    "                contributors=len(forks_url.json()) \n",
    "                for c in forks_url.json():\n",
    "                    contri+=c['contributions']\n",
    "                df.append([repo_name,forks,tag,language,about,watchers,contributors,contri,popularity,licens,issue,url])\n",
    "            except:\n",
    "                df.append([repo_name,forks,tag,language,about,watchers,contributors,contri,popularity,licens,issue,url])"
   ]
  },
  {
   "cell_type": "code",
   "execution_count": 6,
   "metadata": {},
   "outputs": [],
   "source": [
    "data_api=pd.DataFrame(df,columns=['repo_name','star','fork','watch','issue','tags','description','contributers','license','repo_url','most_used_lang'])"
   ]
  },
  {
   "cell_type": "code",
   "execution_count": 7,
   "metadata": {},
   "outputs": [],
   "source": [
    "data_api.to_csv('api_data.csv')"
   ]
  },
  {
   "source": [
    "web Scrapping"
   ],
   "cell_type": "markdown",
   "metadata": {}
  },
  {
   "cell_type": "code",
   "execution_count": 8,
   "metadata": {
    "tags": []
   },
   "outputs": [
    {
     "output_type": "stream",
     "name": "stdout",
     "text": "hongru94\n"
    },
    {
     "output_type": "error",
     "ename": "TypeError",
     "evalue": "string indices must be integers",
     "traceback": [
      "\u001b[1;31m---------------------------------------------------------------------------\u001b[0m",
      "\u001b[1;31mTypeError\u001b[0m                                 Traceback (most recent call last)",
      "\u001b[1;32m<ipython-input-8-7f08143a95d1>\u001b[0m in \u001b[0;36m<module>\u001b[1;34m\u001b[0m\n\u001b[0;32m     18\u001b[0m         \u001b[1;32mfor\u001b[0m \u001b[0mfile\u001b[0m \u001b[1;32min\u001b[0m \u001b[0mrepo_list\u001b[0m\u001b[1;33m:\u001b[0m\u001b[1;33m\u001b[0m\u001b[1;33m\u001b[0m\u001b[0m\n\u001b[0;32m     19\u001b[0m             \u001b[0mcontri\u001b[0m\u001b[1;33m=\u001b[0m\u001b[1;36m0\u001b[0m\u001b[1;33m\u001b[0m\u001b[1;33m\u001b[0m\u001b[0m\n\u001b[1;32m---> 20\u001b[1;33m             \u001b[0mrepo_name\u001b[0m\u001b[1;33m=\u001b[0m\u001b[0mfile\u001b[0m\u001b[1;33m[\u001b[0m\u001b[1;34m'name'\u001b[0m\u001b[1;33m]\u001b[0m\u001b[1;33m\u001b[0m\u001b[1;33m\u001b[0m\u001b[0m\n\u001b[0m\u001b[0;32m     21\u001b[0m \u001b[1;33m\u001b[0m\u001b[0m\n\u001b[0;32m     22\u001b[0m             \u001b[0mcontri_url\u001b[0m\u001b[1;33m=\u001b[0m\u001b[1;34m'https://api.github.com/repos/'\u001b[0m\u001b[1;33m+\u001b[0m\u001b[0mrepo_name\u001b[0m\u001b[1;33m+\u001b[0m\u001b[1;34m'/contributors'\u001b[0m\u001b[1;33m\u001b[0m\u001b[1;33m\u001b[0m\u001b[0m\n",
      "\u001b[1;31mTypeError\u001b[0m: string indices must be integers"
     ]
    }
   ],
   "source": [
    "df=[]\n",
    "names=[]\n",
    "response=requests.get('https://ghapi.huchen.dev/',headers=header)\n",
    "data=response.json()\n",
    "for i in data:\n",
    "    names.append(i['author'])\n",
    "    for nam in i['builtBy']:\n",
    "        names.append(nam['username'])\n",
    "name=list(set(names))\n",
    "for owner_name in name:\n",
    "        \n",
    "        print(owner_name)\n",
    "        \n",
    "        url_owner_repos='https://api.github.com/users/'+owner_name+'/repos'\n",
    "        list_repo=requests.get(url_owner_repos,headers=header)\n",
    "        repo_list=list_repo.json()\n",
    "         \n",
    "        for file in repo_list:\n",
    "            contri=0\n",
    "            repo_name=file['name']\n",
    "          \n",
    "            contri_url='https://api.github.com/repos/'+repo_name+'/contributors'\n",
    "            forks_url=requests.get(contri_url,headers=header)\n",
    "             \n",
    "            contributers=len(forks_url.json()) \n",
    "            h=extract(repo_name,owner_name,contributers)\n",
    "            #     for c in forks_url.json():\n",
    "            #         contri+=c['contributions']\n",
    "            #     df.append([repo_name,forks,tag,language,about,watchers,contributors,contri,popularity,licens,issue,url])\n",
    "            # except:\n",
    "            df.append(h)"
   ]
  },
  {
   "source": [
    "rest api"
   ],
   "cell_type": "markdown",
   "metadata": {}
  },
  {
   "cell_type": "code",
   "execution_count": 9,
   "metadata": {
    "tags": []
   },
   "outputs": [
    {
     "output_type": "stream",
     "name": "stdout",
     "text": "2\n"
    },
    {
     "output_type": "error",
     "ename": "TypeError",
     "evalue": "string indices must be integers",
     "traceback": [
      "\u001b[1;31m---------------------------------------------------------------------------\u001b[0m",
      "\u001b[1;31mTypeError\u001b[0m                                 Traceback (most recent call last)",
      "\u001b[1;32m<ipython-input-9-3b4e3829f79a>\u001b[0m in \u001b[0;36m<module>\u001b[1;34m\u001b[0m\n\u001b[0;32m      7\u001b[0m \u001b[1;33m\u001b[0m\u001b[0m\n\u001b[0;32m      8\u001b[0m     \u001b[0minfo\u001b[0m\u001b[1;33m=\u001b[0m\u001b[1;33m[\u001b[0m\u001b[1;33m]\u001b[0m\u001b[1;33m\u001b[0m\u001b[1;33m\u001b[0m\u001b[0m\n\u001b[1;32m----> 9\u001b[1;33m     \u001b[0mowner_name\u001b[0m\u001b[1;33m=\u001b[0m\u001b[0mi\u001b[0m\u001b[1;33m[\u001b[0m\u001b[1;34m'owner'\u001b[0m\u001b[1;33m]\u001b[0m\u001b[1;33m[\u001b[0m\u001b[1;34m'login'\u001b[0m\u001b[1;33m]\u001b[0m\u001b[1;33m\u001b[0m\u001b[1;33m\u001b[0m\u001b[0m\n\u001b[0m\u001b[0;32m     10\u001b[0m     \u001b[1;32mif\u001b[0m \u001b[0mowner_name\u001b[0m \u001b[1;32mnot\u001b[0m \u001b[1;32min\u001b[0m \u001b[0mnames\u001b[0m\u001b[1;33m:\u001b[0m\u001b[1;33m\u001b[0m\u001b[1;33m\u001b[0m\u001b[0m\n\u001b[0;32m     11\u001b[0m         \u001b[0mnames\u001b[0m\u001b[1;33m.\u001b[0m\u001b[0mappend\u001b[0m\u001b[1;33m(\u001b[0m\u001b[0mowner_name\u001b[0m\u001b[1;33m)\u001b[0m\u001b[1;33m\u001b[0m\u001b[1;33m\u001b[0m\u001b[0m\n",
      "\u001b[1;31mTypeError\u001b[0m: string indices must be integers"
     ]
    }
   ],
   "source": [
    "df=[]\n",
    "names=[]\n",
    "response=requests.get(' https://api.github.com/repositories',headers=header)\n",
    "data=response.json()\n",
    "print(len(data))\n",
    "for i in data:\n",
    "   \n",
    "    info=[]\n",
    "    owner_name=i['owner']['login']\n",
    "    if owner_name not in names:\n",
    "        names.append(owner_name)\n",
    "        print(owner_name)\n",
    "        url_owner_repos='https://api.github.com/users/'+owner_name+'/repos'\n",
    "        list_repo=requests.get(url_owner_repos,headers=header)\n",
    "        repo_list=list_repo.json()\n",
    "        \n",
    "        for file in repo_list:\n",
    "            contri=0\n",
    "            repo_name,forks,tag,language,about,watchers,popularity,licens,issue,url=map(file.get,['full_name','forks','topics','language','description','watchers','stargazers_count','license','open_issues','clone_url'])\n",
    "            contri_url='https://api.github.com/repos/'+repo_name+'/contributors'\n",
    "            forks_url=requests.get(contri_url,headers=header)\n",
    "            contributors=0\n",
    "            try:\n",
    "                contributors=len(forks_url.json()) \n",
    "                for c in forks_url.json():\n",
    "                    contri+=c['contributions']\n",
    "                df.append([repo_name,forks,tag,language,about,watchers,contributors,contri,popularity,licens,issue,url])\n",
    "            except:\n",
    "                df.append([repo_name,forks,tag,language,about,watchers,contributors,contri,popularity,licens,issue,url])"
   ]
  },
  {
   "cell_type": "code",
   "execution_count": 10,
   "metadata": {},
   "outputs": [],
   "source": [
    "dataf=pd.DataFrame(df,columns=['repo_name','star','fork','watch','issue','tags','description','contributers','license','repo_url','most_used_lang'])"
   ]
  },
  {
   "cell_type": "code",
   "execution_count": 11,
   "metadata": {},
   "outputs": [],
   "source": [
    "dataf.to_csv('trending_api_data.csv')"
   ]
  },
  {
   "cell_type": "code",
   "execution_count": 12,
   "metadata": {},
   "outputs": [],
   "source": [
    "data_api=pd.read_csv('api_data.csv')"
   ]
  },
  {
   "cell_type": "code",
   "execution_count": 13,
   "metadata": {},
   "outputs": [],
   "source": [
    "api_data=pd.concat([dataf,data_api],ignore_index=True)"
   ]
  },
  {
   "cell_type": "code",
   "execution_count": 14,
   "metadata": {},
   "outputs": [],
   "source": [
    "api_data.to_csv('github_api.csv')"
   ]
  }
 ]
}