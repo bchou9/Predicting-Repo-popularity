{
 "cells": [
  {
   "cell_type": "markdown",
   "metadata": {},
   "source": [
    "This contain the script to extract the required columns from datasets folder and save into final_data.csv file"
   ]
  },
  {
   "cell_type": "code",
   "execution_count": 1,
   "metadata": {},
   "outputs": [],
   "source": [
    "import pandas as pd"
   ]
  },
  {
   "cell_type": "code",
   "execution_count": 2,
   "metadata": {},
   "outputs": [],
   "source": [
    "data = pd.read_csv('final_data.csv', index_col=0)\n",
    "urls = data['repo_url'].to_list()"
   ]
  },
  {
   "cell_type": "code",
   "execution_count": 3,
   "metadata": {
    "scrolled": true
   },
   "outputs": [
    {
     "name": "stdout",
     "output_type": "stream",
     "text": [
      "['Python', 'Python', 'Jupyter Notebook', 'Jupyter Notebook', '', 'Python', 'Python', 'Python', '', 'Python', 'Jupyter Notebook', '', 'Python', 'Python', 'Python', 'Jupyter Notebook', '', '', '', 'Python', '', 'Python', '', 'TypeScript', 'JavaScript', 'Jupyter Notebook', '', 'Java', 'Python', 'Python', '', 'Python', 'Python', 'Jupyter Notebook', 'JavaScript', 'Python', 'Python', 'Jupyter Notebook', 'Python', 'C++', 'Python', 'TypeScript', 'Jupyter Notebook', 'Python', 'Python', 'Jupyter Notebook', 'Java', 'Python', 'Jupyter Notebook', 'Jupyter Notebook', '', 'Python', 'Jupyter Notebook', 'Go', 'Python', 'Python', '', 'Python', 'R', 'JavaScript', 'Python', 'Python', 'Python', 'JavaScript', 'HTML', 'Python', 'Jupyter Notebook', 'Python', 'Python', 'Jupyter Notebook', 'Jupyter Notebook', 'JavaScript', 'Python', 'Jupyter Notebook', 'Jupyter Notebook', 'Jupyter Notebook', 'HTML', 'C++', 'Jupyter Notebook', 'C++', 'Python', 'Jupyter Notebook', 'Jupyter Notebook', '', 'Python', '', 'Jupyter Notebook', 'R', 'Go', '', 'Python', 'Python', 'Julia', 'Java', 'Python', 'Go', 'Python', 'JavaScript', 'Jupyter Notebook', '', 'C++', 'Python', 'Python', 'Python', 'C++', 'Jupyter Notebook', 'C++', 'Python', 'C++', 'Python', '', 'Julia', 'Jupyter Notebook', '', 'TeX', 'Python', 'Jupyter Notebook', 'C++', 'Python', 'Jupyter Notebook', 'C++', 'C++', 'Python', 'HTML', 'Python', 'Python', 'Jupyter Notebook', '', '', '', '', 'C#', 'Jupyter Notebook', 'C++', '', '', 'TypeScript', 'HTML', 'Jupyter Notebook', 'Scala', '', 'JavaScript', 'Python', 'Python', 'Jupyter Notebook', '', 'C++', 'Python', 'Jupyter Notebook', '', '', 'Shell', '', 'Python', 'Python', '', 'Jupyter Notebook', 'C++', 'Python', 'Python', 'Go', 'Python', 'JavaScript', '', 'C++', 'Python', 'Jsonnet', 'TypeScript', 'Shell', 'Python', '', 'Jupyter Notebook', 'Python', 'Shell', 'Python', 'Python', 'Python', 'Python', 'PureBasic', 'Python', 'Jupyter Notebook', 'Python', 'Python', 'Java', 'Python', '', 'TypeScript', 'Python', '', 'JavaScript', 'Jupyter Notebook', 'Python', 'Python', 'JavaScript', 'Jupyter Notebook', '', 'Python', 'Go', 'C++', 'Python', 'C++', 'Python', 'C++', 'Java', '', 'C++', 'Python', 'Shell', 'Objective-C++', 'Python', 'C++', 'Python', 'C++', 'Makefile', 'Python', 'Python', 'C++', 'Python', 'Jupyter Notebook', 'Java', 'Pascal', 'C#', 'C++', 'Python', 'Assembly', 'Java', '', 'Java', 'C++', 'Python', 'C#', 'Shell', 'Objective-C', 'Python', 'C++', 'Python', 'Python', 'C++', 'Shell', 'C++', 'C#', 'C++', 'C++', 'Python', 'Python', 'Python', 'Python', 'Python', 'JavaScript', 'C++', 'Python', 'C++', 'C++', 'Python', 'C++', 'C++', 'Java', 'Shell', 'C++', 'Python', 'Python', 'C++', 'C#', 'C++', 'Java', 'C++', 'Jupyter Notebook', 'C', 'Python', 'C++', 'HTML', 'C++', 'C++', 'C++', 'Julia', 'C', '', 'C++', 'C++', 'Swift', 'C++', 'C++', 'C++', '', 'ActionScript', 'Java', 'Objective-C++', 'Python', '', 'Python', 'C#', 'C++', 'Python', 'C++', 'Java', 'C++', 'Java', 'Python', 'Python', 'Python', 'C++', 'C++', '', 'Jupyter Notebook', '', 'Python', 'Python', 'Jupyter Notebook', 'C++', '', 'Lua', 'Go', '', 'C++', 'Jupyter Notebook', 'JavaScript', 'C++', 'Lua', 'Python', '', 'C', 'Python', 'C++', 'Jupyter Notebook', 'Python', 'C++', 'C#', '', 'C++', 'Jupyter Notebook', '', 'Python', 'Python', 'Python', 'Python', 'Python', 'Python', 'C++', 'Jupyter Notebook', 'Python', 'Java', 'Shell', 'Python', 'C++', 'C#', 'Python', 'Python', 'Python', 'Python', '', 'Python', 'Python', '', 'Go', 'C++', 'Python', 'CSS', 'Jupyter Notebook', 'JavaScript', 'C++', 'Jupyter Notebook', 'Go', 'C++', 'Python', 'Python', 'JavaScript', 'Python', 'C++', 'Python', 'Jupyter Notebook', 'Python', 'HTML', 'C#', 'Python', 'Python', 'Jupyter Notebook', '', 'C++', 'Python', '', 'Python', '', '', 'Python', 'Python', 'Python', 'Jupyter Notebook', '', 'Python', 'C', 'Jupyter Notebook', '', 'Shell', 'Python', 'Python', 'Python', 'Python', 'Lua', 'Python', 'Python', 'Python', 'Lua', 'Python', '', 'Lua', 'Python', 'Jupyter Notebook', 'Python', 'JavaScript', 'Python', 'Python', 'Python', '', 'Jupyter Notebook', 'Jupyter Notebook', 'Python', 'Python', 'Python', 'Python', 'Python', 'Python', '', 'JavaScript', 'JavaScript', '', 'Jupyter Notebook', 'Jupyter Notebook', 'Jupyter Notebook', 'Python', 'Python', 'Python', '', '', 'JavaScript', 'Python', 'Python', 'Python', 'Python', 'Jupyter Notebook', 'Python', 'Python', 'JavaScript', 'Python', 'Python', 'Python', 'Python', 'Python', 'Python', 'JavaScript', 'Python', 'Lua', 'Python', 'Python', 'Python', 'Python', 'Kotlin', 'Python', 'Python', '', 'TypeScript', 'Jupyter Notebook', 'Python', 'Python', 'Python', 'Python', '', 'Java', 'Python', 'Python', 'Python', 'Python', 'Python', 'Python', 'Python', 'Python', 'Jupyter Notebook', 'Python', 'Jupyter Notebook', 'Python', 'Jupyter Notebook', 'Jupyter Notebook', 'Python', 'Python', 'Python', 'Python', 'JavaScript', 'Jupyter Notebook', 'PHP', 'Python', '', '', 'C', 'Java', 'Jupyter Notebook', 'JavaScript', 'JavaScript', 'Java', 'Jupyter Notebook', 'Python', 'Java', 'PHP', 'Python', 'Jupyter Notebook', 'Python', 'Jupyter Notebook', 'Python', 'Lua', 'Jupyter Notebook', 'Python', 'Python', 'Python', 'Python', 'Python', 'Python', 'Python', 'Python', 'Python', 'Python', 'Python', 'Python', 'Jupyter Notebook', 'Python', 'Jupyter Notebook', 'Python', 'Python', 'Python', 'Python', 'Python', 'Python', 'Python', 'Python', 'Python', 'C', '', 'Python', 'Python', 'Python', 'Python', 'MATLAB', 'Python', 'Python', 'Python', 'Python', 'Python', 'Jupyter Notebook', 'Python', 'Python', 'Python', 'Python', 'Python', 'Jupyter Notebook', 'Python', 'Python', 'Python', 'Python', 'Python', 'Python', 'Jupyter Notebook', 'Python', 'Python', 'Jupyter Notebook', 'Python', 'Python', 'Python', 'Python', 'Python', '', 'Python', 'Python', 'Python', 'Python', '', 'Jupyter Notebook', 'Python', 'Python', 'Python', 'Jupyter Notebook', 'Python', 'HCL', 'Python', 'Python', 'Python', 'Jupyter Notebook', 'Python', '', 'Python', 'Python', 'C++', 'Python', 'Python', 'Python', 'Python', 'Python', 'Python', 'Python', 'Python', 'Jupyter Notebook', 'Python', 'Jupyter Notebook', 'Python', 'Shell', 'Java', 'Java', 'Python', 'Kotlin', 'Java', 'Kotlin', 'C++', 'Kotlin', 'Java', 'Kotlin', 'Java', 'Java', 'Java', 'Java', 'Java', 'Java', 'Java', 'Java', '', '', 'Kotlin', '', 'Java', 'Java', 'Java', 'Kotlin', 'Java', 'Java', 'HTML', 'Java', 'Java', 'Kotlin', 'C#', '', '', 'Java', 'Java', 'Dart', 'Java', 'Kotlin', 'Java', 'Java', 'Java', 'C++', 'C', 'Java', 'Groovy', 'C++', 'Java', '', 'FreeMarker', 'C++', 'Java', 'FreeMarker', 'Java', 'Java', 'Kotlin', 'C#', 'Java', 'Kotlin', '', '', 'Dart', 'Java', 'Java', 'Java', '', '', 'Java', 'Java', 'Java', 'Kotlin', '', 'C', 'Groovy', 'Java', '', '', 'Java', 'Java', 'Shell', 'FreeMarker', 'Java', 'Kotlin', 'Java', '', 'Java', 'Dart', 'Java', 'Java', 'Kotlin', 'Kotlin', '', 'Java', 'C#', 'Java', 'Shell', 'Java', 'C#', 'Dart', 'Dart', 'Dart', 'Dart', 'Dart', 'HTML', 'Dart', 'C++', 'Dart', 'Dart', 'Dart', 'Dart', 'PHP', 'Dart', 'Dart', 'Dart', 'Dart', 'Dart', 'Dart', 'Dart', 'Go', 'Java', '', 'Dart', 'Dart', 'Java', 'Dart', 'Dart', 'Dart', '', 'Dart', 'Dart', 'Dart', 'Dart', 'Dart', '', 'Dart', 'Java', 'Dart', '', 'Dart', 'Go', 'JavaScript', 'Dart', 'JavaScript', 'Dart', 'Dart', 'Dart', 'Dart', 'Dart', 'Dart', 'Dart', 'Dart', 'Dart', 'Dart', 'Dart', 'Dart', 'C#', 'Dart', 'Dart', 'Java', 'Dart', 'Rust', 'Dart', 'Dart', 'Dart', 'Dart', 'Dart', 'Objective-C', 'Dart', 'Dart', 'Dart', 'Dart', 'Dart', 'Dart', 'Dart', 'Dart', 'Dart', 'Dart', 'CSS', 'Dart', 'Dart', 'Dart', 'Dart', 'Dart', 'Java', 'Dart', 'C', '', '', 'Dart', 'Dart', 'Java', 'Dart', 'C', 'Dart', 'Dart', 'Dart', 'Dart', 'Dart', 'Java', 'JavaScript', 'Java', 'JavaScript', 'Java', 'Java', 'Java', 'Java', 'Java', 'Java', 'Java', 'Java', 'Java', 'JavaScript', 'Java', 'Java', 'PHP', 'JavaScript', 'Java', 'Scala', 'Java', 'Kotlin', 'Java', '', 'Java', 'Java', 'Java', 'Java', '', 'Kotlin', 'Java', 'Java', '', 'Python', 'C++', '', 'Java', 'Java', 'Java', 'C++', 'JavaScript', '', 'Java', 'Java', 'C++', 'Java', 'Java', 'Java', 'CSS', 'Java', 'Java', 'Objective-C', 'Java', 'Java', '', 'Java', 'Java', 'HTML', 'Java', 'Java', '', 'Java', 'Java', 'Java', 'Java', 'Scala', 'Ruby', 'Python', 'Java', '', 'Java', 'Java', 'Java', 'Kotlin', 'Java', 'OCaml', 'Kotlin', 'C++', 'Java', 'Java', '', 'Java', 'Java', 'Java', '', 'HTML', 'Java', 'Java', 'Java', 'Java', 'Java', 'Java', 'HTML', 'Java', 'PHP', 'Java', 'Java', 'Java', '', 'Java', '', '', 'JavaScript', 'Lua', '', 'Makefile', 'HTML', '', '', '', '', 'Objective-C', 'Swift', '', '', 'Roff', 'Java', '', '', '', '', '', 'PowerShell', '', '', 'CSS', 'ShaderLab', '', 'CSS', '', '', '', '', '', '', '', 'Shell', 'Go', '', '', '', '', '', '', '', '', 'Python', '', '', 'Go', '', '', '', '', 'JavaScript', '', '', '', '', '', '', '', '', '', '', '', 'Python', '', '', '', '', '', '', 'HTML', '', '', 'JavaScript', 'Python', '', 'Shell', 'Go', '', '', '', '', 'Kotlin', '', 'Java', 'Ruby', '', '', '', '', 'JavaScript', 'Python', '', '', '', '', 'C#', 'JavaScript', 'JavaScript', 'JavaScript', 'JavaScript', '', 'JavaScript', 'C++', 'JavaScript', 'JavaScript', 'JavaScript', '', 'TypeScript', 'JavaScript', 'TypeScript', 'JavaScript', 'JavaScript', 'JavaScript', 'JavaScript', 'TypeScript', 'JavaScript', 'JavaScript', 'JavaScript', 'TypeScript', 'TypeScript', 'Vue', 'JavaScript', 'JavaScript', 'JavaScript', 'JavaScript', 'JavaScript', 'TypeScript', '', 'JavaScript', 'JavaScript', 'CSS', 'JavaScript', 'JavaScript', 'JavaScript', 'JavaScript', 'JavaScript', '', 'JavaScript', 'JavaScript', '', 'JavaScript', 'TypeScript', '', 'JavaScript', 'JavaScript', 'TypeScript', 'JavaScript', 'JavaScript', 'JavaScript', 'JavaScript', 'JavaScript', 'TypeScript', 'JavaScript', 'JavaScript', 'JavaScript', 'JavaScript', 'JavaScript', 'JavaScript', 'TypeScript', '', 'JavaScript', 'JavaScript', 'TypeScript', 'JavaScript', 'JavaScript', 'JavaScript', 'JavaScript', 'JavaScript', 'JavaScript', 'JavaScript', 'JavaScript', 'JavaScript', 'JavaScript', 'Vue', 'JavaScript', 'JavaScript', 'Swift', 'JavaScript', 'JavaScript', 'JavaScript', 'TypeScript', 'JavaScript', 'JavaScript', 'JavaScript', 'JavaScript', 'JavaScript', 'JavaScript', 'JavaScript', 'JavaScript', 'TypeScript', 'OCaml', 'JavaScript', 'TypeScript', 'JavaScript', '', 'JavaScript', '', 'Java', '', 'CSS', '', 'JavaScript', 'Java', 'JavaScript', 'Clojure', 'CSS', 'Python', 'Objective-C', 'Objective-C', 'JavaScript', 'JavaScript', 'CSS', 'JavaScript', 'Java', 'Haskell', '', '', 'JavaScript', 'Swift', 'Swift', '', 'Swift', 'JavaScript', '', 'JavaScript', 'C++', 'JavaScript', 'JavaScript', 'TypeScript', 'C#', 'PHP', 'Swift', 'Swift', 'TypeScript', 'Python', 'C++', 'JavaScript', 'C', 'Vim script', 'Swift', 'C++', 'TypeScript', 'JavaScript', 'Python', 'CSS', 'C', 'Go', 'C++', 'Makefile', 'C', 'Python', 'C++', '', 'Go', 'PHP', '', 'JavaScript', 'Ruby', 'JavaScript', 'Kotlin', 'C++', 'Python', 'Python', 'Java', 'Ruby', '', 'JavaScript', '', 'Scala', 'Swift', 'Java', 'Objective-C', 'C#', 'Objective-C', 'C#', 'Swift', 'JavaScript', '', 'Objective-C', 'Shell', 'Objective-C', 'TypeScript', 'JavaScript', 'HTML', 'Python', 'Python', 'QML', 'C', 'Java', '', '', 'HTML', 'JavaScript', 'Java', 'JavaScript', 'HTML', 'Shell', 'C', 'Go', 'Shell', 'C', 'JavaScript', 'C', 'JavaScript', 'Python', 'Shell', 'Python', 'C++', 'JavaScript', 'Shell', 'Assembly', 'Python', 'Shell', 'Java', 'C++', 'Makefile', 'Shell', 'C', 'Go', 'Python', 'C++', 'JavaScript', 'Python', 'JavaScript', '', '', 'Python', 'JavaScript', '', '', 'Shell', 'Go', 'JavaScript', 'Shell', 'C', 'C', 'Python', 'C', 'Java', 'Shell', '', 'Shell', 'Python', 'C', 'C', 'C', 'Python', 'Python', 'Python', 'Shell', '', 'Shell', 'Ruby', 'Shell', 'Dockerfile', 'Python', 'JavaScript', 'C', 'JavaScript', 'Go', 'Pure Data', 'Shell', 'C', 'CSS', 'HTML', 'C', 'Python', 'JavaScript', 'Elixir', 'Shell', 'Go', 'Ruby', 'C#', 'Shell', 'C++', 'C++', 'Python', 'C', 'Python', 'Python', 'Java', 'C', 'Python', 'Shell', 'JavaScript', 'JavaScript', '', 'Ruby', 'C', 'Python', 'Python', 'C', 'Shell', 'CoffeeScript', 'Shell', 'CSS', 'JavaScript', 'C++', 'C', 'Java', 'C++', 'C', 'Go', '', 'Go', 'C', 'C++', 'Python', 'C++', 'C++', 'JavaScript', 'C', 'C++', 'C++', 'C++', 'C++', 'Java', 'Go', 'C', 'C', 'C++', 'C++', 'C', 'C++', 'Java', 'C', 'Makefile', 'C++', 'Python', 'Python', 'C++', 'JavaScript', 'C++', 'C++', 'C++', 'C', 'CSS', 'C', 'C', 'C++', 'C++', 'HTML', 'C++', 'Python', 'C++', 'C++', 'C++', 'C++', 'C++', 'C++', 'C++', 'JavaScript', 'C', 'Eagle', 'C++', 'C', 'C++', 'C', 'C', 'C++', 'Processing', 'Other', 'Makefile', 'C++', 'C++', 'C', 'C++', 'C++', 'C++', 'C++', 'Other', 'C++', 'C++', 'C++', 'C++', 'C', 'C++', 'C++', 'C++', 'TypeScript', 'C++', 'C++', 'HTML', 'C', 'C++', 'C++', 'C++', 'C++', 'Java', 'Other', 'C', 'C++', 'C', 'C', 'C++', 'C#', 'Python', 'Python', 'Java', 'C++', 'Python', 'Jupyter Notebook', 'Java', 'JavaScript', 'Java', 'C++', 'Java', 'C++', 'C++', 'C', 'Ruby', 'JavaScript', 'C', 'C++', 'Python', 'Python', 'HTML', 'Python', 'C++', 'C', 'C++', 'C++', 'Objective-C', 'C++', 'C++', 'C++', 'Java', 'Objective-C', 'JavaScript', 'C++', 'Swift', 'Java', 'C++', 'C++', 'Java', 'Python', 'C++', 'Python', 'C++', 'C++', 'C', 'C', 'Java', 'Other', 'Java', 'JavaScript', 'Perl', 'Python', 'Python', 'Python', 'Python', 'C++', 'C++', 'C++', 'Shell', 'JavaScript', 'C', 'C++', 'XSLT', 'JavaScript', 'Python', 'C#', 'Python', 'C', 'Python', 'C++', 'C++', 'Python', 'C++', 'C', 'Swift', 'C++', 'Jupyter Notebook', 'Kotlin', 'C', 'JavaScript', 'C', 'C++', 'C', 'Python', 'C++', 'JavaScript', 'C', 'Python', 'C++', 'C++', 'Python', 'MATLAB', 'Python', 'C++', '', 'Java', 'Java', 'Python', 'Java', 'C']\n"
     ]
    }
   ],
   "source": [
    "# # This is the script with which using repositories url you can extract most used languages.\n",
    "# import requests\n",
    "# from bs4 import BeautifulSoup\n",
    "# from IPython.core.display import clear_output\n",
    "# from time import sleep\n",
    "# from random import randint\n",
    "\n",
    "# most_used_lang = []\n",
    "# n = len(urls)\n",
    "# for idx, url in enumerate(urls):\n",
    "#     r = requests.get(url)\n",
    "#     html_soup = BeautifulSoup(r.text, 'html.parser')\n",
    "#     lang = html_soup.find_all('span', class_ = 'text-gray-dark text-bold mr-1')\n",
    "#     if len(lang) > 0:\n",
    "#         most_used_lang.append(lang[0].text)\n",
    "#     else:\n",
    "#         most_used_lang.append('')\n",
    "#     print('Left request: ',n-idx)\n",
    "#     print(most_used_lang)\n",
    "# #     sleep(0.001)\n",
    "#     clear_output(wait = True)\n",
    "\n",
    "# print(most_used_lang)"
   ]
  },
  {
   "cell_type": "code",
   "execution_count": 4,
   "metadata": {},
   "outputs": [],
   "source": [
    "data['most_used_lang'] = most_used_lang"
   ]
  },
  {
   "cell_type": "code",
   "execution_count": 5,
   "metadata": {},
   "outputs": [],
   "source": [
    "# data.to_csv('final_data.csv')"
   ]
  },
  {
   "cell_type": "code",
   "execution_count": null,
   "metadata": {},
   "outputs": [],
   "source": []
  }
 ],
 "metadata": {
  "kernelspec": {
   "display_name": "Python 3",
   "language": "python",
   "name": "python3"
  },
  "language_info": {
   "codemirror_mode": {
    "name": "ipython",
    "version": 3
   },
   "file_extension": ".py",
   "mimetype": "text/x-python",
   "name": "python",
   "nbconvert_exporter": "python",
   "pygments_lexer": "ipython3",
   "version": "3.7.7"
  }
 },
 "nbformat": 4,
 "nbformat_minor": 4
}
