{
 "cells": [
  {
   "cell_type": "code",
   "execution_count": 1,
   "metadata": {},
   "outputs": [],
   "source": [
    "import pandas as pd\n",
    "import numpy as np"
   ]
  },
  {
   "cell_type": "code",
   "execution_count": 2,
   "metadata": {},
   "outputs": [
    {
     "name": "stdout",
     "output_type": "stream",
     "text": [
      "<class 'pandas.core.frame.DataFrame'>\n",
      "Int64Index: 1500 entries, 0 to 1499\n",
      "Data columns (total 10 columns):\n",
      " #   Column        Non-Null Count  Dtype \n",
      "---  ------        --------------  ----- \n",
      " 0   repo_name     1500 non-null   object\n",
      " 1   star          1500 non-null   object\n",
      " 2   fork          1500 non-null   object\n",
      " 3   watch         1500 non-null   object\n",
      " 4   issue         1500 non-null   object\n",
      " 5   tags          1500 non-null   object\n",
      " 6   discription   1480 non-null   object\n",
      " 7   contributers  1500 non-null   object\n",
      " 8   license       1500 non-null   object\n",
      " 9   repo_url      1500 non-null   object\n",
      "dtypes: object(10)\n",
      "memory usage: 128.9+ KB\n"
     ]
    }
   ],
   "source": [
    "data = pd.read_csv('final_data.csv', index_col=0)\n",
    "data.info()"
   ]
  },
  {
   "cell_type": "code",
   "execution_count": 3,
   "metadata": {},
   "outputs": [
    {
     "data": {
      "text/html": [
       "<div>\n",
       "<style scoped>\n",
       "    .dataframe tbody tr th:only-of-type {\n",
       "        vertical-align: middle;\n",
       "    }\n",
       "\n",
       "    .dataframe tbody tr th {\n",
       "        vertical-align: top;\n",
       "    }\n",
       "\n",
       "    .dataframe thead th {\n",
       "        text-align: right;\n",
       "    }\n",
       "</style>\n",
       "<table border=\"1\" class=\"dataframe\">\n",
       "  <thead>\n",
       "    <tr style=\"text-align: right;\">\n",
       "      <th></th>\n",
       "      <th>repo_name</th>\n",
       "      <th>star</th>\n",
       "      <th>fork</th>\n",
       "      <th>watch</th>\n",
       "      <th>issue</th>\n",
       "      <th>tags</th>\n",
       "      <th>discription</th>\n",
       "      <th>contributers</th>\n",
       "      <th>license</th>\n",
       "      <th>repo_url</th>\n",
       "    </tr>\n",
       "  </thead>\n",
       "  <tbody>\n",
       "    <tr>\n",
       "      <th>0</th>\n",
       "      <td>keras</td>\n",
       "      <td>47.9k</td>\n",
       "      <td>18.1k</td>\n",
       "      <td>2.1k</td>\n",
       "      <td>2,940</td>\n",
       "      <td>['deep-learning', 'tensorflow', 'neural-networ...</td>\n",
       "      <td>Deep Learning for humans</td>\n",
       "      <td>49</td>\n",
       "      <td>View license</td>\n",
       "      <td>https://github.com/keras-team/keras</td>\n",
       "    </tr>\n",
       "    <tr>\n",
       "      <th>1</th>\n",
       "      <td>scikit-learn</td>\n",
       "      <td>40.3k</td>\n",
       "      <td>19.6k</td>\n",
       "      <td>2.2k</td>\n",
       "      <td>1,505</td>\n",
       "      <td>['machine-learning', 'python', 'statistics', '...</td>\n",
       "      <td>scikit-learn: machine learning in Python</td>\n",
       "      <td>108</td>\n",
       "      <td>View license</td>\n",
       "      <td>https://github.com/scikit-learn/scikit-learn</td>\n",
       "    </tr>\n",
       "    <tr>\n",
       "      <th>2</th>\n",
       "      <td>PythonDataScienceHandbook</td>\n",
       "      <td>23.1k</td>\n",
       "      <td>9.9k</td>\n",
       "      <td>1.5k</td>\n",
       "      <td>65</td>\n",
       "      <td>['scikit-learn', 'numpy', 'python', 'jupyter-n...</td>\n",
       "      <td>Python Data Science Handbook: full text in Jup...</td>\n",
       "      <td>0</td>\n",
       "      <td>View license</td>\n",
       "      <td>https://github.com/jakevdp/PythonDataScienceHa...</td>\n",
       "    </tr>\n",
       "    <tr>\n",
       "      <th>3</th>\n",
       "      <td>Probabilistic-Programming-and-Bayesian-Methods...</td>\n",
       "      <td>21k</td>\n",
       "      <td>6.6k</td>\n",
       "      <td>1.4k</td>\n",
       "      <td>127</td>\n",
       "      <td>['bayesian-methods', 'pymc', 'mathematical-ana...</td>\n",
       "      <td>aka \"Bayesian Methods for Hackers\": An introdu...</td>\n",
       "      <td>0</td>\n",
       "      <td>MIT</td>\n",
       "      <td>https://github.com/CamDavidsonPilon/Probabilis...</td>\n",
       "    </tr>\n",
       "    <tr>\n",
       "      <th>4</th>\n",
       "      <td>Data-Science--Cheat-Sheet</td>\n",
       "      <td>18.4k</td>\n",
       "      <td>8.2k</td>\n",
       "      <td>1.5k</td>\n",
       "      <td>7</td>\n",
       "      <td>[]</td>\n",
       "      <td>Cheat Sheets</td>\n",
       "      <td>0</td>\n",
       "      <td>Fetching contributors</td>\n",
       "      <td>https://github.com/abhat222/Data-Science--Chea...</td>\n",
       "    </tr>\n",
       "  </tbody>\n",
       "</table>\n",
       "</div>"
      ],
      "text/plain": [
       "                                           repo_name   star   fork watch  \\\n",
       "0                                              keras  47.9k  18.1k  2.1k   \n",
       "1                                       scikit-learn  40.3k  19.6k  2.2k   \n",
       "2                          PythonDataScienceHandbook  23.1k   9.9k  1.5k   \n",
       "3  Probabilistic-Programming-and-Bayesian-Methods...    21k   6.6k  1.4k   \n",
       "4                          Data-Science--Cheat-Sheet  18.4k   8.2k  1.5k   \n",
       "\n",
       "   issue                                               tags  \\\n",
       "0  2,940  ['deep-learning', 'tensorflow', 'neural-networ...   \n",
       "1  1,505  ['machine-learning', 'python', 'statistics', '...   \n",
       "2     65  ['scikit-learn', 'numpy', 'python', 'jupyter-n...   \n",
       "3    127  ['bayesian-methods', 'pymc', 'mathematical-ana...   \n",
       "4      7                                                 []   \n",
       "\n",
       "                                         discription contributers  \\\n",
       "0                           Deep Learning for humans           49   \n",
       "1           scikit-learn: machine learning in Python          108   \n",
       "2  Python Data Science Handbook: full text in Jup...            0   \n",
       "3  aka \"Bayesian Methods for Hackers\": An introdu...            0   \n",
       "4                                       Cheat Sheets            0   \n",
       "\n",
       "                 license                                           repo_url  \n",
       "0           View license                https://github.com/keras-team/keras  \n",
       "1           View license       https://github.com/scikit-learn/scikit-learn  \n",
       "2           View license  https://github.com/jakevdp/PythonDataScienceHa...  \n",
       "3                    MIT  https://github.com/CamDavidsonPilon/Probabilis...  \n",
       "4  Fetching contributors  https://github.com/abhat222/Data-Science--Chea...  "
      ]
     },
     "execution_count": 3,
     "metadata": {},
     "output_type": "execute_result"
    }
   ],
   "source": [
    "data.head()"
   ]
  },
  {
   "cell_type": "code",
   "execution_count": 6,
   "metadata": {},
   "outputs": [],
   "source": [
    "urls = data['repo_url'].to_list()"
   ]
  },
  {
   "cell_type": "markdown",
   "metadata": {},
   "source": [
    "This is the script with which using repositories url you can extract most used languages."
   ]
  },
  {
   "cell_type": "code",
   "execution_count": 5,
   "metadata": {},
   "outputs": [],
   "source": [
    "# import requests\n",
    "# from bs4 import BeautifulSoup\n",
    "# from IPython.core.display import clear_output\n",
    "# from time import sleep\n",
    "# from random import randint\n",
    "\n",
    "# most_used_lang = []\n",
    "# n = len(urls)\n",
    "# for idx, url in enumerate(urls):\n",
    "#     r = requests.get(url)\n",
    "#     html_soup = BeautifulSoup(r.text, 'html.parser')\n",
    "#     lang = html_soup.find_all('span', class_ = 'text-gray-dark text-bold mr-1')\n",
    "#     if len(lang) > 0:\n",
    "#         most_used_lang.append(lang[0].text)\n",
    "#     else:\n",
    "#         most_used_lang.append('')\n",
    "#     print('Left request: ',n-idx)\n",
    "#     print(most_used_lang)\n",
    "#     sleep(0.001)\n",
    "#     clear_output(wait = True)\n",
    "\n",
    "# print(most_used_lang)"
   ]
  },
  {
   "cell_type": "code",
   "execution_count": null,
   "metadata": {},
   "outputs": [],
   "source": []
  },
  {
   "cell_type": "code",
   "execution_count": null,
   "metadata": {},
   "outputs": [],
   "source": []
  },
  {
   "cell_type": "code",
   "execution_count": null,
   "metadata": {},
   "outputs": [],
   "source": []
  },
  {
   "cell_type": "code",
   "execution_count": null,
   "metadata": {},
   "outputs": [],
   "source": []
  },
  {
   "cell_type": "code",
   "execution_count": null,
   "metadata": {},
   "outputs": [],
   "source": []
  }
 ],
 "metadata": {
  "kernelspec": {
   "display_name": "Python 3",
   "language": "python",
   "name": "python3"
  },
  "language_info": {
   "codemirror_mode": {
    "name": "ipython",
    "version": 3
   },
   "file_extension": ".py",
   "mimetype": "text/x-python",
   "name": "python",
   "nbconvert_exporter": "python",
   "pygments_lexer": "ipython3",
   "version": "3.7.7"
  }
 },
 "nbformat": 4,
 "nbformat_minor": 4
}
