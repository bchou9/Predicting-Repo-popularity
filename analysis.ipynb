{
 "cells": [
  {
   "cell_type": "code",
   "execution_count": 1,
   "metadata": {},
   "outputs": [],
   "source": [
    "import pandas as pd\n",
    "import numpy as np"
   ]
  },
  {
   "cell_type": "code",
   "execution_count": 2,
   "metadata": {},
   "outputs": [
    {
     "name": "stdout",
     "output_type": "stream",
     "text": [
      "<class 'pandas.core.frame.DataFrame'>\n",
      "Int64Index: 1500 entries, 0 to 1499\n",
      "Data columns (total 11 columns):\n",
      " #   Column          Non-Null Count  Dtype \n",
      "---  ------          --------------  ----- \n",
      " 0   repo_name       1500 non-null   object\n",
      " 1   star            1500 non-null   object\n",
      " 2   fork            1500 non-null   object\n",
      " 3   watch           1500 non-null   object\n",
      " 4   issue           1500 non-null   object\n",
      " 5   tags            1500 non-null   object\n",
      " 6   description     1480 non-null   object\n",
      " 7   contributers    1500 non-null   object\n",
      " 8   license         1500 non-null   object\n",
      " 9   repo_url        1500 non-null   object\n",
      " 10  most_used_lang  1297 non-null   object\n",
      "dtypes: object(11)\n",
      "memory usage: 140.6+ KB\n"
     ]
    }
   ],
   "source": [
    "data = pd.read_csv('final_data.csv', index_col=0)\n",
    "data.info()"
   ]
  },
  {
   "cell_type": "code",
   "execution_count": 3,
   "metadata": {},
   "outputs": [
    {
     "data": {
      "text/html": [
       "<div>\n",
       "<style scoped>\n",
       "    .dataframe tbody tr th:only-of-type {\n",
       "        vertical-align: middle;\n",
       "    }\n",
       "\n",
       "    .dataframe tbody tr th {\n",
       "        vertical-align: top;\n",
       "    }\n",
       "\n",
       "    .dataframe thead th {\n",
       "        text-align: right;\n",
       "    }\n",
       "</style>\n",
       "<table border=\"1\" class=\"dataframe\">\n",
       "  <thead>\n",
       "    <tr style=\"text-align: right;\">\n",
       "      <th></th>\n",
       "      <th>repo_name</th>\n",
       "      <th>star</th>\n",
       "      <th>fork</th>\n",
       "      <th>watch</th>\n",
       "      <th>issue</th>\n",
       "      <th>tags</th>\n",
       "      <th>description</th>\n",
       "      <th>contributers</th>\n",
       "      <th>license</th>\n",
       "      <th>repo_url</th>\n",
       "      <th>most_used_lang</th>\n",
       "    </tr>\n",
       "  </thead>\n",
       "  <tbody>\n",
       "    <tr>\n",
       "      <th>0</th>\n",
       "      <td>keras</td>\n",
       "      <td>47.9k</td>\n",
       "      <td>18.1k</td>\n",
       "      <td>2.1k</td>\n",
       "      <td>2,940</td>\n",
       "      <td>['deep-learning', 'tensorflow', 'neural-networ...</td>\n",
       "      <td>Deep Learning for humans</td>\n",
       "      <td>49</td>\n",
       "      <td>View license</td>\n",
       "      <td>https://github.com/keras-team/keras</td>\n",
       "      <td>Python</td>\n",
       "    </tr>\n",
       "    <tr>\n",
       "      <th>1</th>\n",
       "      <td>scikit-learn</td>\n",
       "      <td>40.3k</td>\n",
       "      <td>19.6k</td>\n",
       "      <td>2.2k</td>\n",
       "      <td>1,505</td>\n",
       "      <td>['machine-learning', 'python', 'statistics', '...</td>\n",
       "      <td>scikit-learn: machine learning in Python</td>\n",
       "      <td>108</td>\n",
       "      <td>View license</td>\n",
       "      <td>https://github.com/scikit-learn/scikit-learn</td>\n",
       "      <td>Python</td>\n",
       "    </tr>\n",
       "    <tr>\n",
       "      <th>2</th>\n",
       "      <td>PythonDataScienceHandbook</td>\n",
       "      <td>23.1k</td>\n",
       "      <td>9.9k</td>\n",
       "      <td>1.5k</td>\n",
       "      <td>65</td>\n",
       "      <td>['scikit-learn', 'numpy', 'python', 'jupyter-n...</td>\n",
       "      <td>Python Data Science Handbook: full text in Jup...</td>\n",
       "      <td>0</td>\n",
       "      <td>View license</td>\n",
       "      <td>https://github.com/jakevdp/PythonDataScienceHa...</td>\n",
       "      <td>Jupyter Notebook</td>\n",
       "    </tr>\n",
       "    <tr>\n",
       "      <th>3</th>\n",
       "      <td>Probabilistic-Programming-and-Bayesian-Methods...</td>\n",
       "      <td>21k</td>\n",
       "      <td>6.6k</td>\n",
       "      <td>1.4k</td>\n",
       "      <td>127</td>\n",
       "      <td>['bayesian-methods', 'pymc', 'mathematical-ana...</td>\n",
       "      <td>aka \"Bayesian Methods for Hackers\": An introdu...</td>\n",
       "      <td>0</td>\n",
       "      <td>MIT</td>\n",
       "      <td>https://github.com/CamDavidsonPilon/Probabilis...</td>\n",
       "      <td>Jupyter Notebook</td>\n",
       "    </tr>\n",
       "    <tr>\n",
       "      <th>4</th>\n",
       "      <td>Data-Science--Cheat-Sheet</td>\n",
       "      <td>18.4k</td>\n",
       "      <td>8.2k</td>\n",
       "      <td>1.5k</td>\n",
       "      <td>7</td>\n",
       "      <td>[]</td>\n",
       "      <td>Cheat Sheets</td>\n",
       "      <td>0</td>\n",
       "      <td>Fetching contributors</td>\n",
       "      <td>https://github.com/abhat222/Data-Science--Chea...</td>\n",
       "      <td>NaN</td>\n",
       "    </tr>\n",
       "  </tbody>\n",
       "</table>\n",
       "</div>"
      ],
      "text/plain": [
       "                                           repo_name   star   fork watch  \\\n",
       "0                                              keras  47.9k  18.1k  2.1k   \n",
       "1                                       scikit-learn  40.3k  19.6k  2.2k   \n",
       "2                          PythonDataScienceHandbook  23.1k   9.9k  1.5k   \n",
       "3  Probabilistic-Programming-and-Bayesian-Methods...    21k   6.6k  1.4k   \n",
       "4                          Data-Science--Cheat-Sheet  18.4k   8.2k  1.5k   \n",
       "\n",
       "   issue                                               tags  \\\n",
       "0  2,940  ['deep-learning', 'tensorflow', 'neural-networ...   \n",
       "1  1,505  ['machine-learning', 'python', 'statistics', '...   \n",
       "2     65  ['scikit-learn', 'numpy', 'python', 'jupyter-n...   \n",
       "3    127  ['bayesian-methods', 'pymc', 'mathematical-ana...   \n",
       "4      7                                                 []   \n",
       "\n",
       "                                         description contributers  \\\n",
       "0                           Deep Learning for humans           49   \n",
       "1           scikit-learn: machine learning in Python          108   \n",
       "2  Python Data Science Handbook: full text in Jup...            0   \n",
       "3  aka \"Bayesian Methods for Hackers\": An introdu...            0   \n",
       "4                                       Cheat Sheets            0   \n",
       "\n",
       "                 license                                           repo_url  \\\n",
       "0           View license                https://github.com/keras-team/keras   \n",
       "1           View license       https://github.com/scikit-learn/scikit-learn   \n",
       "2           View license  https://github.com/jakevdp/PythonDataScienceHa...   \n",
       "3                    MIT  https://github.com/CamDavidsonPilon/Probabilis...   \n",
       "4  Fetching contributors  https://github.com/abhat222/Data-Science--Chea...   \n",
       "\n",
       "     most_used_lang  \n",
       "0            Python  \n",
       "1            Python  \n",
       "2  Jupyter Notebook  \n",
       "3  Jupyter Notebook  \n",
       "4               NaN  "
      ]
     },
     "execution_count": 3,
     "metadata": {},
     "output_type": "execute_result"
    }
   ],
   "source": [
    "data.head()"
   ]
  },
  {
   "cell_type": "markdown",
   "metadata": {},
   "source": [
    "## Cleaning\n",
    "\n",
    "So, we can see in the info section that some of the rows in the `description` and `most_used_lang` are null. I think most used language feature affects the popularity of the repo because the projects using trending technologies is the project most viewed by people. Let's see the popularity of repositories which has no language."
   ]
  },
  {
   "cell_type": "code",
   "execution_count": 6,
   "metadata": {},
   "outputs": [
    {
     "data": {
      "text/html": [
       "<div>\n",
       "<style scoped>\n",
       "    .dataframe tbody tr th:only-of-type {\n",
       "        vertical-align: middle;\n",
       "    }\n",
       "\n",
       "    .dataframe tbody tr th {\n",
       "        vertical-align: top;\n",
       "    }\n",
       "\n",
       "    .dataframe thead th {\n",
       "        text-align: right;\n",
       "    }\n",
       "</style>\n",
       "<table border=\"1\" class=\"dataframe\">\n",
       "  <thead>\n",
       "    <tr style=\"text-align: right;\">\n",
       "      <th></th>\n",
       "      <th>star</th>\n",
       "      <th>fork</th>\n",
       "      <th>most_used_lang</th>\n",
       "    </tr>\n",
       "  </thead>\n",
       "  <tbody>\n",
       "    <tr>\n",
       "      <th>4</th>\n",
       "      <td>18.4k</td>\n",
       "      <td>8.2k</td>\n",
       "      <td>NaN</td>\n",
       "    </tr>\n",
       "    <tr>\n",
       "      <th>8</th>\n",
       "      <td>14.7k</td>\n",
       "      <td>5.3k</td>\n",
       "      <td>NaN</td>\n",
       "    </tr>\n",
       "    <tr>\n",
       "      <th>11</th>\n",
       "      <td>12.1k</td>\n",
       "      <td>3.4k</td>\n",
       "      <td>NaN</td>\n",
       "    </tr>\n",
       "    <tr>\n",
       "      <th>16</th>\n",
       "      <td>10.3k</td>\n",
       "      <td>2.5k</td>\n",
       "      <td>NaN</td>\n",
       "    </tr>\n",
       "    <tr>\n",
       "      <th>17</th>\n",
       "      <td>9.9k</td>\n",
       "      <td>1.8k</td>\n",
       "      <td>NaN</td>\n",
       "    </tr>\n",
       "    <tr>\n",
       "      <th>18</th>\n",
       "      <td>9.7k</td>\n",
       "      <td>2.1k</td>\n",
       "      <td>NaN</td>\n",
       "    </tr>\n",
       "    <tr>\n",
       "      <th>20</th>\n",
       "      <td>8.7k</td>\n",
       "      <td>2.1k</td>\n",
       "      <td>NaN</td>\n",
       "    </tr>\n",
       "    <tr>\n",
       "      <th>22</th>\n",
       "      <td>7.8k</td>\n",
       "      <td>1.1k</td>\n",
       "      <td>NaN</td>\n",
       "    </tr>\n",
       "    <tr>\n",
       "      <th>26</th>\n",
       "      <td>7.4k</td>\n",
       "      <td>1.5k</td>\n",
       "      <td>NaN</td>\n",
       "    </tr>\n",
       "    <tr>\n",
       "      <th>30</th>\n",
       "      <td>6.9k</td>\n",
       "      <td>1.7k</td>\n",
       "      <td>NaN</td>\n",
       "    </tr>\n",
       "  </tbody>\n",
       "</table>\n",
       "</div>"
      ],
      "text/plain": [
       "     star  fork most_used_lang\n",
       "4   18.4k  8.2k            NaN\n",
       "8   14.7k  5.3k            NaN\n",
       "11  12.1k  3.4k            NaN\n",
       "16  10.3k  2.5k            NaN\n",
       "17   9.9k  1.8k            NaN\n",
       "18   9.7k  2.1k            NaN\n",
       "20   8.7k  2.1k            NaN\n",
       "22   7.8k  1.1k            NaN\n",
       "26   7.4k  1.5k            NaN\n",
       "30   6.9k  1.7k            NaN"
      ]
     },
     "execution_count": 6,
     "metadata": {},
     "output_type": "execute_result"
    }
   ],
   "source": [
    "data[data['most_used_lang'].isnull()][['star', 'fork', 'most_used_lang']].head(10)"
   ]
  },
  {
   "cell_type": "markdown",
   "metadata": {},
   "source": [
    "Above, we can see that without having any language these repositories has many `stars` and `forks`. Then these repositories must share some resources or any useful information like this [here](https://github.com/loveunk/Deep-learning-books). So, I think replacing is the best option then dropping."
   ]
  },
  {
   "cell_type": "code",
   "execution_count": 7,
   "metadata": {},
   "outputs": [
    {
     "name": "stdout",
     "output_type": "stream",
     "text": [
      "<class 'pandas.core.frame.DataFrame'>\n",
      "Int64Index: 1500 entries, 0 to 1499\n",
      "Data columns (total 11 columns):\n",
      " #   Column          Non-Null Count  Dtype \n",
      "---  ------          --------------  ----- \n",
      " 0   repo_name       1500 non-null   object\n",
      " 1   star            1500 non-null   object\n",
      " 2   fork            1500 non-null   object\n",
      " 3   watch           1500 non-null   object\n",
      " 4   issue           1500 non-null   object\n",
      " 5   tags            1500 non-null   object\n",
      " 6   description     1480 non-null   object\n",
      " 7   contributers    1500 non-null   object\n",
      " 8   license         1500 non-null   object\n",
      " 9   repo_url        1500 non-null   object\n",
      " 10  most_used_lang  1500 non-null   object\n",
      "dtypes: object(11)\n",
      "memory usage: 140.6+ KB\n"
     ]
    }
   ],
   "source": [
    "data['most_used_lang'] = data['most_used_lang'].fillna('no language', inplace=False)\n",
    "data.info()"
   ]
  },
  {
   "cell_type": "markdown",
   "metadata": {},
   "source": [
    "We can see that there is rows which has no any `description`. We know having description of repo makes it more attractive or easy for other's to understand the project. It will affects the popularity somehow."
   ]
  },
  {
   "cell_type": "code",
   "execution_count": 8,
   "metadata": {},
   "outputs": [
    {
     "name": "stdout",
     "output_type": "stream",
     "text": [
      "     most_used_lang                                           repo_url   star\n",
      "202             C++  https://github.com/oreillymedia/Learning-OpenC...   1.4k\n",
      "214          Python  https://github.com/MicrocontrollersAndMore/Ope...    405\n",
      "219            Java                   https://github.com/xikuqi/OpenCV    317\n",
      "234             C++  https://github.com/MicrocontrollersAndMore/Ope...    217\n",
      "242             C++         https://github.com/saki4510t/OpenCVwithUVC    154\n",
      "245          Python  https://github.com/MicrocontrollersAndMore/Ras...    143\n",
      "253          Python  https://github.com/MicrocontrollersAndMore/Ope...    128\n",
      "269             C++  https://github.com/MicrocontrollersAndMore/Ope...    105\n",
      "291             C++  https://github.com/MicrocontrollersAndMore/Ope...     74\n",
      "356             CSS  https://github.com/handong1587/handong1587.git...     3k\n",
      "428          Python   https://github.com/martinarjovsky/WassersteinGAN   2.6k\n",
      "449          Python            https://github.com/hanzhanggit/StackGAN   1.6k\n",
      "482          Python                https://github.com/taoxugit/AttnGAN    911\n",
      "495      JavaScript        https://github.com/lypeer/wechat-weapp-gank    749\n",
      "498          Python  https://github.com/brain-research/self-attenti...    718\n",
      "654      FreeMarker  https://github.com/vsay01/Android-Studio-MVP-T...    111\n",
      "677     no language           https://github.com/quanke/android-studio     92\n",
      "780            Dart            https://github.com/YYFlutter/flutter-ui   1.2k\n",
      "1182    Objective-C   https://github.com/TKkk-iOSer/WeChatPlugin-MacOS  13.5k\n",
      "1344            C++      https://github.com/br3ttb/Arduino-PID-Library   1.1k\n"
     ]
    }
   ],
   "source": [
    "print(data[data['description'].isnull()][['most_used_lang', 'repo_url', 'star']])"
   ]
  },
  {
   "cell_type": "markdown",
   "metadata": {},
   "source": [
    "We can see above that the non-descripted repo also has popularity. So, I think other than removing them I will replace it with `''`."
   ]
  },
  {
   "cell_type": "code",
   "execution_count": null,
   "metadata": {},
   "outputs": [],
   "source": [
    "data['description'] = data['description'].fillna('', inplace=False)\n",
    "len(data[data['description'].isnull()])"
   ]
  },
  {
   "cell_type": "code",
   "execution_count": null,
   "metadata": {},
   "outputs": [],
   "source": [
    "data.info()"
   ]
  },
  {
   "cell_type": "markdown",
   "metadata": {},
   "source": [
    "## Visualization"
   ]
  },
  {
   "cell_type": "code",
   "execution_count": null,
   "metadata": {},
   "outputs": [],
   "source": []
  },
  {
   "cell_type": "code",
   "execution_count": null,
   "metadata": {},
   "outputs": [],
   "source": []
  }
 ],
 "metadata": {
  "kernelspec": {
   "display_name": "Python 3",
   "language": "python",
   "name": "python3"
  },
  "language_info": {
   "codemirror_mode": {
    "name": "ipython",
    "version": 3
   },
   "file_extension": ".py",
   "mimetype": "text/x-python",
   "name": "python",
   "nbconvert_exporter": "python",
   "pygments_lexer": "ipython3",
   "version": "3.7.7"
  }
 },
 "nbformat": 4,
 "nbformat_minor": 4
}
